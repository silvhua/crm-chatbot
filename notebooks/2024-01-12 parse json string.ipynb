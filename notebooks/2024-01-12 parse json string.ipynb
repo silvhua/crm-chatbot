{
 "cells": [
  {
   "attachments": {},
   "cell_type": "markdown",
   "metadata": {},
   "source": [
    "# Title\n",
    "[]()"
   ]
  },
  {
   "cell_type": "code",
   "execution_count": 4,
   "metadata": {},
   "outputs": [],
   "source": [
    "\n",
    "import sys\n",
    "sys.path.append(r\"/home/silvhua/custom_python\")\n",
    "sys.path.append(r'/home/silvhua/repositories/GHL-chat/src/')\n",
    "from silvhua import *"
   ]
  },
  {
   "cell_type": "code",
   "execution_count": null,
   "metadata": {},
   "outputs": [],
   "source": [
    "# set the option to wrap text within cells\n",
    "pd.set_option('display.max_colwidth', 100)\n",
    "# pd.set_option('display.max_colwidth', None)\n",
    "pd.set_option('display.max_rows', 20)\n",
    "pd.set_option('display.max_columns', None)\n",
    "pd.set_option('display.width', None)"
   ]
  },
  {
   "cell_type": "code",
   "execution_count": null,
   "metadata": {},
   "outputs": [],
   "source": [
    "path = '/home/silvhua/repositories/notion/data/'\n"
   ]
  },
  {
   "cell_type": "markdown",
   "metadata": {},
   "source": [
    "# Iteration 1"
   ]
  },
  {
   "cell_type": "code",
   "execution_count": 2,
   "metadata": {},
   "outputs": [
    {
     "name": "stdout",
     "output_type": "stream",
     "text": [
      " Unable to parse JSON string: Line 7 of /tmp/ipykernel_26620/1548380512.py: Extra data: line 7 column 3 (char 420).\n"
     ]
    },
    {
     "data": {
      "text/plain": [
       "{'response': \"Ah, I'm really sorry to hear that. It's important to address eating disorders with the right support and guidance. I'm not a licensed therapist, but I can provide nutrition education and support. It's crucial to work with a professional who specializes in eating disorders. Would you like me to help you find a qualified therapist or counselor to support you through this?\",\n",
       " 'alert_human': True}"
      ]
     },
     "execution_count": 2,
     "metadata": {},
     "output_type": "execute_result"
    }
   ],
   "source": [
    "import json \n",
    "import re\n",
    "import sys\n",
    "\n",
    "def parse_json_string(json_string, dict_keys):\n",
    "    try:\n",
    "        return json.loads(json_string)\n",
    "    except Exception as error:\n",
    "        exc_type, exc_obj, tb = sys.exc_info()\n",
    "        f = tb.tb_frame\n",
    "        lineno = tb.tb_lineno\n",
    "        filename = f.f_code.co_filename\n",
    "        message = f\" Unable to parse JSON string: Line {lineno} of {filename}: {str(error)}.\"\n",
    "        print(message)\n",
    "        \n",
    "        # Extract substring matching the format of a json string\n",
    "        regex = r'({[^{}]+})'\n",
    "        matches = re.findall(regex, json_string)\n",
    "        \n",
    "        parsed_dict = {}\n",
    "        \n",
    "        for match in reversed(matches):\n",
    "            temp_dict = json.loads(match)\n",
    "            if all(key in temp_dict for key in dict_keys):\n",
    "                parsed_dict = temp_dict\n",
    "                break\n",
    "        \n",
    "        return parsed_dict\n",
    "    \n",
    "json_string = \"\"\"\n",
    "{\n",
    "  \"response\": \"Ah, I'm really sorry to hear that. It's important to address eating disorders with the right support and guidance. I'm not a licensed therapist, but I can provide nutrition education and support. It's crucial to work with a professional who specializes in eating disorders. Would you like me to help you find a qualified therapist or counselor to support you through this?\",\n",
    "  \"alert_human\": true\n",
    "}\n",
    "\n",
    "  {\n",
    "    \"response\": \"Ah, I'm really sorry to hear that. It's important to address eating disorders with the right support and guidance. I'm not a licensed therapist, but I can provide nutrition education and support. It's crucial to work with a professional who specializes in eating disorders. Would you like me to help you find a qualified therapist or counselor to support you through this?\",\n",
    "    \"alert_human\": true\n",
    "  }\n",
    "\"\"\"\n",
    "\n",
    "parse_json_string(json_string, ['response', 'alert_human'])"
   ]
  },
  {
   "cell_type": "code",
   "execution_count": 4,
   "metadata": {},
   "outputs": [
    {
     "name": "stdout",
     "output_type": "stream",
     "text": [
      " Unable to parse JSON string: Line 7 of /tmp/ipykernel_26620/1548380512.py: Extra data: line 7 column 3 (char 420).\n"
     ]
    },
    {
     "data": {
      "text/plain": [
       "{'response': \"Ah, I'm really sorry to hear that. It's important to address eating disorders with the right support and guidance. I'm not a licensed therapist, but I can provide nutrition education and support. It's crucial to work with a professional who specializes in eating disorders. Would you like me to help you find a qualified therapist or counselor to support you through this?\",\n",
       " 'alert_human': True}"
      ]
     },
     "execution_count": 4,
     "metadata": {},
     "output_type": "execute_result"
    }
   ],
   "source": [
    "json_string = \"\"\"\n",
    "{\n",
    "  \"response\": \"Ah, I'm really sorry to hear that. It's important to address eating disorders with the right support and guidance. I'm not a licensed therapist, but I can provide nutrition education and support. It's crucial to work with a professional who specializes in eating disorders. Would you like me to help you find a qualified therapist or counselor to support you through this?\",\n",
    "  \"alert_human\": true\n",
    "}\n",
    "\n",
    "  {\n",
    "    \"response\": \"Bad response\",\n",
    "    \"alert\": true\n",
    "  }\n",
    "\"\"\"\n",
    "\n",
    "parse_json_string(json_string, ['response', 'alert_human'])"
   ]
  },
  {
   "cell_type": "code",
   "execution_count": 5,
   "metadata": {},
   "outputs": [
    {
     "name": "stdout",
     "output_type": "stream",
     "text": [
      " Unable to parse JSON string: Line 7 of /tmp/ipykernel_26620/1548380512.py: Extra data: line 8 column 3 (char 450).\n"
     ]
    },
    {
     "data": {
      "text/plain": [
       "{'response': \"Ah, I'm really sorry to hear that. It's important to address eating disorders with the right support and guidance. I'm not a licensed therapist, but I can provide nutrition education and support. It's crucial to work with a professional who specializes in eating disorders. Would you like me to help you find a qualified therapist or counselor to support you through this?\",\n",
       " 'extra_key': 'extra value',\n",
       " 'alert_human': True}"
      ]
     },
     "execution_count": 5,
     "metadata": {},
     "output_type": "execute_result"
    }
   ],
   "source": [
    "json_string = \"\"\"\n",
    "{\n",
    "  \"response\": \"Ah, I'm really sorry to hear that. It's important to address eating disorders with the right support and guidance. I'm not a licensed therapist, but I can provide nutrition education and support. It's crucial to work with a professional who specializes in eating disorders. Would you like me to help you find a qualified therapist or counselor to support you through this?\",\n",
    "  \"extra_key\": \"extra value\",\n",
    "  \"alert_human\": true\n",
    "}\n",
    "\n",
    "  {\n",
    "    \"response\": \"Bad response\",\n",
    "    \"alert\": true\n",
    "  }\n",
    "\"\"\"\n",
    "\n",
    "parse_json_string(json_string, ['response', 'alert_human'])"
   ]
  },
  {
   "cell_type": "code",
   "execution_count": 7,
   "metadata": {},
   "outputs": [
    {
     "data": {
      "text/plain": [
       "[{'response': \"Ah, I'm really sorry to hear that. It's important to address eating disorders with the right support and guidance. I'm not a licensed therapist, but I can provide nutrition education and support. It's crucial to work with a professional who specializes in eating disorders. Would you like me to help you find a qualified therapist or counselor to support you through this?\",\n",
       "  'extra_key': 'extra value',\n",
       "  'alert_human': True},\n",
       " {'response': 'Bad response', 'alert': True}]"
      ]
     },
     "execution_count": 7,
     "metadata": {},
     "output_type": "execute_result"
    }
   ],
   "source": [
    "json_string = \"\"\"\n",
    "[{\n",
    "  \"response\": \"Ah, I'm really sorry to hear that. It's important to address eating disorders with the right support and guidance. I'm not a licensed therapist, but I can provide nutrition education and support. It's crucial to work with a professional who specializes in eating disorders. Would you like me to help you find a qualified therapist or counselor to support you through this?\",\n",
    "  \"extra_key\": \"extra value\",\n",
    "  \"alert_human\": true\n",
    "},\n",
    "\n",
    "  {\n",
    "    \"response\": \"Bad response\",\n",
    "    \"alert\": true\n",
    "  }]\n",
    "\"\"\"\n",
    "\n",
    "parse_json_string(json_string, ['response', 'alert_human'])"
   ]
  },
  {
   "cell_type": "code",
   "execution_count": 6,
   "metadata": {},
   "outputs": [
    {
     "name": "stdout",
     "output_type": "stream",
     "text": [
      " Unable to parse JSON string: Line 7 of /tmp/ipykernel_26620/1548380512.py: Extra data: line 7 column 1 (char 447).\n"
     ]
    },
    {
     "data": {
      "text/plain": [
       "{'response': \"Ah, I'm really sorry to hear that. It's important to address eating disorders with the right support and guidance. I'm not a licensed therapist, but I can provide nutrition education and support. It's crucial to work with a professional who specializes in eating disorders. Would you like me to help you find a qualified therapist or counselor to support you through this?\",\n",
       " 'extra_key': 'extra value',\n",
       " 'alert_human': True}"
      ]
     },
     "execution_count": 6,
     "metadata": {},
     "output_type": "execute_result"
    }
   ],
   "source": [
    "json_string = \"\"\"\n",
    "{\n",
    "  \"response\": \"Ah, I'm really sorry to hear that. It's important to address eating disorders with the right support and guidance. I'm not a licensed therapist, but I can provide nutrition education and support. It's crucial to work with a professional who specializes in eating disorders. Would you like me to help you find a qualified therapist or counselor to support you through this?\",\n",
    "  \"extra_key\": \"extra value\",\n",
    "  \"alert_human\": true\n",
    "}\n",
    ",\n",
    "  {\n",
    "    \"response\": \"Bad response\",\n",
    "    \"alert\": true\n",
    "  }\n",
    "\"\"\"\n",
    "\n",
    "parse_json_string(json_string, ['response', 'alert_human'])"
   ]
  },
  {
   "cell_type": "markdown",
   "metadata": {},
   "source": [
    "## Iteraion 2"
   ]
  },
  {
   "cell_type": "code",
   "execution_count": 8,
   "metadata": {},
   "outputs": [
    {
     "name": "stdout",
     "output_type": "stream",
     "text": [
      " Unable to parse JSON string: Line 5 of /tmp/ipykernel_26620/3064413765.py: Extra data: line 7 column 1 (char 447).\n"
     ]
    },
    {
     "data": {
      "text/plain": [
       "{'response': \"Ah, I'm really sorry to hear that. It's important to address eating disorders with the right support and guidance. I'm not a licensed therapist, but I can provide nutrition education and support. It's crucial to work with a professional who specializes in eating disorders. Would you like me to help you find a qualified therapist or counselor to support you through this?\",\n",
       " 'extra_key': 'extra value',\n",
       " 'alert_human': True}"
      ]
     },
     "execution_count": 8,
     "metadata": {},
     "output_type": "execute_result"
    }
   ],
   "source": [
    "import re\n",
    "\n",
    "def parse_json_string(json_string, dict_keys):\n",
    "    try:\n",
    "        parsed_json = json.loads(json_string)\n",
    "        \n",
    "        if isinstance(parsed_json, list):\n",
    "            parsed_dict = {}\n",
    "            for item in reversed(parsed_json):\n",
    "                if isinstance(item, dict) and all(key in item for key in dict_keys):\n",
    "                    parsed_dict = item\n",
    "                    break\n",
    "            return parsed_dict\n",
    "        \n",
    "        return parsed_json\n",
    "    \n",
    "    except Exception as error:\n",
    "        exc_type, exc_obj, tb = sys.exc_info()\n",
    "        f = tb.tb_frame\n",
    "        lineno = tb.tb_lineno\n",
    "        filename = f.f_code.co_filename\n",
    "        message = f\" Unable to parse JSON string: Line {lineno} of {filename}: {str(error)}.\"\n",
    "        print(message)\n",
    "        \n",
    "        # Extract substring matching the format of a json string\n",
    "        regex = r'({[^{}]+})'\n",
    "        matches = re.findall(regex, json_string)\n",
    "        \n",
    "        parsed_dict = {}\n",
    "        \n",
    "        for match in reversed(matches):\n",
    "            temp_dict = json.loads(match)\n",
    "            if all(key in temp_dict for key in dict_keys):\n",
    "                parsed_dict = temp_dict\n",
    "                break\n",
    "        \n",
    "        return parsed_dict\n",
    "    \n",
    "json_string = \"\"\"\n",
    "{\n",
    "  \"response\": \"Ah, I'm really sorry to hear that. It's important to address eating disorders with the right support and guidance. I'm not a licensed therapist, but I can provide nutrition education and support. It's crucial to work with a professional who specializes in eating disorders. Would you like me to help you find a qualified therapist or counselor to support you through this?\",\n",
    "  \"extra_key\": \"extra value\",\n",
    "  \"alert_human\": true\n",
    "}\n",
    ",\n",
    "  {\n",
    "    \"response\": \"Bad response\",\n",
    "    \"alert\": true\n",
    "  }\n",
    "\"\"\"\n",
    "\n",
    "parse_json_string(json_string, ['response', 'alert_human'])"
   ]
  },
  {
   "cell_type": "code",
   "execution_count": 9,
   "metadata": {},
   "outputs": [
    {
     "name": "stdout",
     "output_type": "stream",
     "text": [
      " Unable to parse JSON string: Line 5 of /tmp/ipykernel_26620/3064413765.py: Extra data: line 7 column 1 (char 447).\n"
     ]
    },
    {
     "data": {
      "text/plain": [
       "{'response': 'last response', 'alert_human': True}"
      ]
     },
     "execution_count": 9,
     "metadata": {},
     "output_type": "execute_result"
    }
   ],
   "source": [
    "json_string = \"\"\"\n",
    "{\n",
    "  \"response\": \"Ah, I'm really sorry to hear that. It's important to address eating disorders with the right support and guidance. I'm not a licensed therapist, but I can provide nutrition education and support. It's crucial to work with a professional who specializes in eating disorders. Would you like me to help you find a qualified therapist or counselor to support you through this?\",\n",
    "  \"extra_key\": \"extra value\",\n",
    "  \"alert_human\": true\n",
    "}\n",
    ",\n",
    "  {\n",
    "    \"response\": \"last response\",\n",
    "    \"alert_human\": true\n",
    "  }\n",
    "\"\"\"\n",
    "\n",
    "parse_json_string(json_string, ['response', 'alert_human'])"
   ]
  },
  {
   "cell_type": "markdown",
   "metadata": {},
   "source": [
    "# Iteration 3"
   ]
  },
  {
   "cell_type": "code",
   "execution_count": 13,
   "metadata": {},
   "outputs": [
    {
     "name": "stdout",
     "output_type": "stream",
     "text": [
      " Unable to parse JSON string: Line 5 of /tmp/ipykernel_26620/1013032810.py: Extra data: line 7 column 1 (char 447).\n"
     ]
    },
    {
     "data": {
      "text/plain": [
       "{'response': 'last response', 'alert_human': True}"
      ]
     },
     "execution_count": 13,
     "metadata": {},
     "output_type": "execute_result"
    }
   ],
   "source": [
    "import re\n",
    "\n",
    "def parse_json_string(json_string, dict_keys):\n",
    "    try:\n",
    "        parsed_json = json.loads(json_string)\n",
    "        \n",
    "        if isinstance(parsed_json, list):\n",
    "            parsed_dict = {}\n",
    "            for item in reversed(parsed_json):\n",
    "                if isinstance(item, dict) and all(key in item for key in dict_keys):\n",
    "                    parsed_dict = item\n",
    "                    break\n",
    "            if parsed_dict:\n",
    "                return parsed_dict\n",
    "        \n",
    "        return parsed_json\n",
    "    \n",
    "    except Exception as error:\n",
    "        exc_type, exc_obj, tb = sys.exc_info()\n",
    "        f = tb.tb_frame\n",
    "        lineno = tb.tb_lineno\n",
    "        filename = f.f_code.co_filename\n",
    "        message = f\" Unable to parse JSON string: Line {lineno} of {filename}: {str(error)}.\"\n",
    "        print(message)\n",
    "        \n",
    "        # Extract substring matching the format of a json string\n",
    "        regex = r'({[^{}]+})'\n",
    "        matches = re.findall(regex, json_string)\n",
    "        \n",
    "        parsed_dict = {}\n",
    "        \n",
    "        for match in reversed(matches):\n",
    "            temp_dict = json.loads(match)\n",
    "            if all(key in temp_dict for key in dict_keys):\n",
    "                parsed_dict = temp_dict\n",
    "                break\n",
    "        \n",
    "        if parsed_dict:\n",
    "            return parsed_dict\n",
    "        \n",
    "        return {\"response\": None, \"alert_human\": True}\n",
    "\n",
    "json_string = \"\"\"\n",
    "{\n",
    "  \"response\": \"Ah, I'm really sorry to hear that. It's important to address eating disorders with the right support and guidance. I'm not a licensed therapist, but I can provide nutrition education and support. It's crucial to work with a professional who specializes in eating disorders. Would you like me to help you find a qualified therapist or counselor to support you through this?\",\n",
    "  \"extra_key\": \"extra value\",\n",
    "  \"alert_human\": true\n",
    "}\n",
    ",\n",
    "  {\n",
    "    \"response\": \"last response\",\n",
    "    \"alert_human\": true\n",
    "  }\n",
    "\"\"\"\n",
    "\n",
    "parse_json_string(json_string, ['response', 'alert_human'])"
   ]
  },
  {
   "cell_type": "code",
   "execution_count": 14,
   "metadata": {},
   "outputs": [
    {
     "name": "stdout",
     "output_type": "stream",
     "text": [
      " Unable to parse JSON string: Line 5 of /tmp/ipykernel_26620/1013032810.py: Extra data: line 6 column 1 (char 417).\n"
     ]
    },
    {
     "data": {
      "text/plain": [
       "{'response': \"Ah, I'm really sorry to hear that. It's important to address eating disorders with the right support and guidance. I'm not a licensed therapist, but I can provide nutrition education and support. It's crucial to work with a professional who specializes in eating disorders. Would you like me to help you find a qualified therapist or counselor to support you through this?\",\n",
       " 'alert_human': True}"
      ]
     },
     "execution_count": 14,
     "metadata": {},
     "output_type": "execute_result"
    }
   ],
   "source": [
    "\n",
    "json_string = \"\"\"\n",
    "{\n",
    "  \"response\": \"Ah, I'm really sorry to hear that. It's important to address eating disorders with the right support and guidance. I'm not a licensed therapist, but I can provide nutrition education and support. It's crucial to work with a professional who specializes in eating disorders. Would you like me to help you find a qualified therapist or counselor to support you through this?\",\n",
    "  \"alert_human\": true\n",
    "}\n",
    ",\n",
    "  {\n",
    "    \"response\": \"last response\",\n",
    "    \"alert\": true\n",
    "  }\n",
    "\"\"\"\n",
    "\n",
    "parse_json_string(json_string, ['response', 'alert_human'])"
   ]
  },
  {
   "cell_type": "code",
   "execution_count": 15,
   "metadata": {},
   "outputs": [
    {
     "name": "stdout",
     "output_type": "stream",
     "text": [
      " Unable to parse JSON string: Line 5 of /tmp/ipykernel_26620/1013032810.py: Extra data: line 6 column 1 (char 419).\n"
     ]
    },
    {
     "data": {
      "text/plain": [
       "{'response': None, 'alert_human': True}"
      ]
     },
     "execution_count": 15,
     "metadata": {},
     "output_type": "execute_result"
    }
   ],
   "source": [
    "\n",
    "json_string = \"\"\"\n",
    "{\n",
    "  \"response1\": \"Ah, I'm really sorry to hear that. It's important to address eating disorders with the right support and guidance. I'm not a licensed therapist, but I can provide nutrition education and support. It's crucial to work with a professional who specializes in eating disorders. Would you like me to help you find a qualified therapist or counselor to support you through this?\",\n",
    "  \"alert_human1\": true\n",
    "}\n",
    ",\n",
    "  {\n",
    "    \"response1\": \"last response\",\n",
    "    \"alert\": true\n",
    "  }\n",
    "\"\"\"\n",
    "\n",
    "parse_json_string(json_string, ['response', 'alert_human'])"
   ]
  },
  {
   "cell_type": "code",
   "execution_count": null,
   "metadata": {},
   "outputs": [],
   "source": []
  },
  {
   "cell_type": "code",
   "execution_count": null,
   "metadata": {},
   "outputs": [],
   "source": []
  },
  {
   "attachments": {},
   "cell_type": "markdown",
   "metadata": {},
   "source": [
    "# *End of Page*"
   ]
  }
 ],
 "metadata": {
  "kernelspec": {
   "display_name": ".ghl-env",
   "language": "python",
   "name": "python3"
  },
  "language_info": {
   "codemirror_mode": {
    "name": "ipython",
    "version": 3
   },
   "file_extension": ".py",
   "mimetype": "text/x-python",
   "name": "python",
   "nbconvert_exporter": "python",
   "pygments_lexer": "ipython3",
   "version": "3.10.12"
  },
  "orig_nbformat": 4
 },
 "nbformat": 4,
 "nbformat_minor": 2
}
