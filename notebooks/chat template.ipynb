{
 "cells": [
  {
   "attachments": {},
   "cell_type": "markdown",
   "metadata": {},
   "source": [
    "# Title\n",
    "[]()"
   ]
  },
  {
   "cell_type": "code",
   "execution_count": 1,
   "metadata": {},
   "outputs": [],
   "source": [
    "\n",
    "import sys\n",
    "sys.path.append(r\"/home/silvhua/custom_python\")\n",
    "sys.path.append(r'/home/silvhua/repositories/GHL-chat/src/')\n",
    "sys.path.append(r'/home/silvhua/repositories/GHL-chat/src/app')\n",
    "from silvhua import *\n",
    "from chat_functions import *\n",
    "from langchain.agents import Tool\n",
    "from data_functions import parse_json_string"
   ]
  },
  {
   "cell_type": "code",
   "execution_count": 2,
   "metadata": {},
   "outputs": [],
   "source": [
    "path = '/home/silvhua/repositories/GHL-chat/src/app/private'\n",
    "contacts = load_json('contacts.json', path)\n",
    "contactId = contacts['me_fb']"
   ]
  },
  {
   "cell_type": "code",
   "execution_count": 3,
   "metadata": {},
   "outputs": [],
   "source": [
    "system_message_dict = dict()\n",
    "conversation_dict = dict()\n",
    "reply_dict = dict()\n",
    "conversation_id = 1\n",
    "question_id = 1\n",
    "reply_dict[conversation_id] = dict()"
   ]
  },
  {
   "cell_type": "code",
   "execution_count": 4,
   "metadata": {},
   "outputs": [
    {
     "name": "stdout",
     "output_type": "stream",
     "text": [
      "Tokens retrieved from S3 for CoachMcloone.\n",
      "Tokens saved to S3 CoachMcloone.\n"
     ]
    }
   ],
   "source": [
    "from app.ghl_requests import *\n",
    "from dotenv import load_dotenv\n",
    "load_dotenv(dotenv_path='../src/.env')\n",
    "response = refresh_token()"
   ]
  },
  {
   "cell_type": "markdown",
   "metadata": {},
   "source": [
    "# Copied from 2024-02-04 notebook"
   ]
  },
  {
   "cell_type": "code",
   "execution_count": null,
   "metadata": {},
   "outputs": [],
   "source": [
    "def create_test_system_message():\n",
    "    system_message = f\"\"\"\n",
    "You work for an online personal training business. \n",
    "Your role is to reach out to leads and book qualified leads for a call to see if they are a good fit \n",
    "for the business's online coaching program.\n",
    "If the contact provides their telephone number, extract that phone number.\n",
    "\n",
    "Return your response on a JSON format with the following keys:\n",
    "- \"response\" (string): The response to the InboundMessage, if applicable. If a human is to be alerted, the value will be [ALERT HUMAN]\n",
    "- \"alert_human\" (True or False): Whether or not to alert a human to review the response.\n",
    "- \"phone_number\" (string or None): The phone number of the contact, if available.\n",
    "    \"\"\"\n",
    "\n",
    "    prompt = \"\"\"\n",
    "    Write the next OutboundMessage based on the following InboundMessage, \n",
    "    which is delimited by triple backticks: ```{InboundMessage}```\n",
    "    \"\"\"\n",
    "    system_message = f'{system_message}{prompt}'\n",
    "    return system_message\n",
    "\n",
    "def test_chatbot(contactId, InboundMessage, tools):\n",
    "    system_message_dict[conversation_id] = create_test_system_message()\n",
    "    conversation_dict[conversation_id] = create_chatbot(\n",
    "        contactId, system_message_dict[conversation_id], tools=tools,\n",
    "        # model='gpt-4-32k'\n",
    "        )\n",
    "\n",
    "    reply_dict[conversation_id][question_id] = chat_with_chatbot(\n",
    "        InboundMessage, conversation_dict[conversation_id]\n",
    "    )\n",
    "    chatbot_response = parse_json_string(reply_dict[conversation_id][question_id][\"output\"])\n",
    "\n",
    "    return chatbot_response\n",
    "\n",
    "\n",
    "tools = [\n",
    "    Tool(\n",
    "        name=f\"placeholder_function\",\n",
    "        func=placeholder_function,\n",
    "        description=f\"This function does not do anything.\",\n",
    "    )\n",
    "]\n",
    "InboundMessage = 'My number is 7788917189'\n",
    "conversation_id = 1\n",
    "question_id = 1\n",
    "reply_dict[conversation_id] = dict()\n",
    "chatbot_response = test_chatbot(contactId, InboundMessage, tools)"
   ]
  },
  {
   "cell_type": "markdown",
   "metadata": {},
   "source": []
  },
  {
   "cell_type": "code",
   "execution_count": null,
   "metadata": {},
   "outputs": [],
   "source": []
  },
  {
   "cell_type": "code",
   "execution_count": null,
   "metadata": {},
   "outputs": [],
   "source": []
  },
  {
   "cell_type": "code",
   "execution_count": null,
   "metadata": {},
   "outputs": [],
   "source": []
  },
  {
   "cell_type": "code",
   "execution_count": null,
   "metadata": {},
   "outputs": [],
   "source": []
  },
  {
   "cell_type": "code",
   "execution_count": null,
   "metadata": {},
   "outputs": [],
   "source": []
  },
  {
   "cell_type": "code",
   "execution_count": null,
   "metadata": {},
   "outputs": [],
   "source": []
  },
  {
   "cell_type": "code",
   "execution_count": null,
   "metadata": {},
   "outputs": [],
   "source": []
  },
  {
   "attachments": {},
   "cell_type": "markdown",
   "metadata": {},
   "source": [
    "# *End of Page*"
   ]
  }
 ],
 "metadata": {
  "kernelspec": {
   "display_name": ".ghl-env",
   "language": "python",
   "name": "python3"
  },
  "language_info": {
   "codemirror_mode": {
    "name": "ipython",
    "version": 3
   },
   "file_extension": ".py",
   "mimetype": "text/x-python",
   "name": "python",
   "nbconvert_exporter": "python",
   "pygments_lexer": "ipython3",
   "version": "3.10.12"
  },
  "orig_nbformat": 4
 },
 "nbformat": 4,
 "nbformat_minor": 2
}
