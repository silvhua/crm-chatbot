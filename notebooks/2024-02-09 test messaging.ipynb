{
 "cells": [
  {
   "attachments": {},
   "cell_type": "markdown",
   "metadata": {},
   "source": [
    "# Title\n",
    "[]()"
   ]
  },
  {
   "cell_type": "code",
   "execution_count": 1,
   "metadata": {},
   "outputs": [],
   "source": [
    "\n",
    "import sys\n",
    "sys.path.append(r\"/home/silvhua/custom_python\")\n",
    "sys.path.append(r'/home/silvhua/repositories/GHL-chat/src/')\n",
    "sys.path.append(r'/home/silvhua/repositories/GHL-chat/src/app')\n",
    "from silvhua import *"
   ]
  },
  {
   "cell_type": "code",
   "execution_count": 2,
   "metadata": {},
   "outputs": [],
   "source": [
    "path = '/home/silvhua/repositories/GHL-chat/src/app/private'\n",
    "contacts = load_json('contacts.json', path)\n",
    "contactId = contacts['me_fb']"
   ]
  },
  {
   "cell_type": "code",
   "execution_count": 3,
   "metadata": {},
   "outputs": [],
   "source": [
    "\n",
    "import sys\n",
    "sys.path.append(r\"/home/silvhua/custom_python\")\n",
    "sys.path.append(r'/home/silvhua/repositories/GHL-chat/src/')\n",
    "sys.path.append(r'/home/silvhua/repositories/GHL-chat/src/app')\n",
    "from silvhua import *\n",
    "from chat_functions import *"
   ]
  },
  {
   "cell_type": "code",
   "execution_count": 4,
   "metadata": {},
   "outputs": [],
   "source": [
    "system_message_dict = dict()\n",
    "conversation_dict = dict()\n",
    "reply_dict = dict()\n",
    "conversation_id = 1\n",
    "question_id = 1\n",
    "reply_dict[conversation_id] = dict()"
   ]
  },
  {
   "cell_type": "code",
   "execution_count": 5,
   "metadata": {},
   "outputs": [
    {
     "name": "stdout",
     "output_type": "stream",
     "text": [
      "Tokens retrieved from S3 for CoachMcloone.\n",
      "Tokens saved to S3 CoachMcloone.\n"
     ]
    }
   ],
   "source": [
    "from app.ghl_requests import *\n",
    "from dotenv import load_dotenv\n",
    "load_dotenv(dotenv_path='../src/.env')\n",
    "response = refresh_token()"
   ]
  },
  {
   "cell_type": "markdown",
   "metadata": {},
   "source": [
    "# Initialize"
   ]
  },
  {
   "cell_type": "code",
   "execution_count": 6,
   "metadata": {},
   "outputs": [],
   "source": [
    "response_dict = dict()"
   ]
  },
  {
   "cell_type": "markdown",
   "metadata": {},
   "source": [
    "# Iteration 1"
   ]
  },
  {
   "cell_type": "code",
   "execution_count": 8,
   "metadata": {},
   "outputs": [
    {
     "name": "stdout",
     "output_type": "stream",
     "text": [
      "input payload: {'type': 'FB', 'message': 'test message _2024-02-09_0814'}\n",
      "Status code 201: Created\n",
      "sendMessage: {'conversationId': '8bcsOnIFz1ZXiBYKfkkv', 'messageId': 'R4UjY0dYshiOtaI4310m', 'traceId': '28e8d633-bf29-4f67-831c-6c15dab13f75', 'status_code': 201, 'response_reason': 'Created'}\n"
     ]
    }
   ],
   "source": [
    "iteration = 1\n",
    "payload = {\n",
    "    \"type\": \"FB\",\n",
    "    \"message\": append_timestamp('test message '),\n",
    "}\n",
    "\n",
    "response_dict[iteration] = ghl_request(\n",
    "    contactId=contactId, \n",
    "    text=None,\n",
    "    endpoint='sendMessage', \n",
    "    payload=payload, \n",
    "    location='CoachMcloone'\n",
    ")\n",
    "print(f'sendMessage: {response_dict[iteration]}')"
   ]
  },
  {
   "cell_type": "markdown",
   "metadata": {},
   "source": []
  },
  {
   "cell_type": "code",
   "execution_count": 9,
   "metadata": {},
   "outputs": [
    {
     "data": {
      "text/plain": [
       "True"
      ]
     },
     "execution_count": 9,
     "metadata": {},
     "output_type": "execute_result"
    }
   ],
   "source": [
    "messages_to_ignore = [\n",
    "    'GET STARTED', '🍎 Nutrition', '💪 Training', '🧠 Knowledge'\n",
    "]\n",
    "'🍎 Nutrition' in messages_to_ignore"
   ]
  },
  {
   "cell_type": "code",
   "execution_count": null,
   "metadata": {},
   "outputs": [],
   "source": []
  },
  {
   "cell_type": "code",
   "execution_count": null,
   "metadata": {},
   "outputs": [],
   "source": []
  },
  {
   "cell_type": "code",
   "execution_count": null,
   "metadata": {},
   "outputs": [],
   "source": []
  },
  {
   "cell_type": "code",
   "execution_count": null,
   "metadata": {},
   "outputs": [],
   "source": []
  },
  {
   "cell_type": "code",
   "execution_count": null,
   "metadata": {},
   "outputs": [],
   "source": []
  },
  {
   "attachments": {},
   "cell_type": "markdown",
   "metadata": {},
   "source": [
    "# *End of Page*"
   ]
  }
 ],
 "metadata": {
  "kernelspec": {
   "display_name": ".ghl-env",
   "language": "python",
   "name": "python3"
  },
  "language_info": {
   "codemirror_mode": {
    "name": "ipython",
    "version": 3
   },
   "file_extension": ".py",
   "mimetype": "text/x-python",
   "name": "python",
   "nbconvert_exporter": "python",
   "pygments_lexer": "ipython3",
   "version": "3.10.12"
  },
  "orig_nbformat": 4
 },
 "nbformat": 4,
 "nbformat_minor": 2
}
